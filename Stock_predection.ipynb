{
  "nbformat": 4,
  "nbformat_minor": 0,
  "metadata": {
    "colab": {
      "provenance": [],
      "toc_visible": true,
      "authorship_tag": "ABX9TyMyZ/x6MGotwX/b9f0aS54P",
      "include_colab_link": true
    },
    "kernelspec": {
      "name": "python3",
      "display_name": "Python 3"
    },
    "language_info": {
      "name": "python"
    }
  },
  "cells": [
    {
      "cell_type": "markdown",
      "metadata": {
        "id": "view-in-github",
        "colab_type": "text"
      },
      "source": [
        "<a href=\"https://colab.research.google.com/github/RithishChowdary/Stock-Predicting/blob/main/Stock_predection.ipynb\" target=\"_parent\"><img src=\"https://colab.research.google.com/assets/colab-badge.svg\" alt=\"Open In Colab\"/></a>"
      ]
    },
    {
      "cell_type": "code",
      "source": [
        "import numpy as np\n",
        "import skfuzzy as fuzz\n",
        "from skfuzzy import control as ctrl"
      ],
      "metadata": {
        "id": "w5LEa1PXVca1"
      },
      "execution_count": 14,
      "outputs": []
    },
    {
      "cell_type": "code",
      "source": [
        "price_change = ctrl.Antecedent(np.arange(-10,11,1),'price_change')\n",
        "volume = ctrl.Antecedent(np.arange(0,101,1),'volume')\n",
        "sentiment = ctrl.Antecedent(np.arange(-1,1.1,0.1),'sentiment')\n",
        "trend=ctrl.Consequent(np.arange(0,101,1),'trend')"
      ],
      "metadata": {
        "id": "rUc-1GpPV3cS"
      },
      "execution_count": 17,
      "outputs": []
    },
    {
      "cell_type": "code",
      "source": [
        "price_change['low'] = fuzz.trimf(price_change.universe, [-10, -10, 0])\n",
        "price_change['medium'] = fuzz.trimf(price_change.universe, [-5, 0, 5])\n",
        "price_change['high'] = fuzz.trimf(price_change.universe, [0, 10, 10])"
      ],
      "metadata": {
        "id": "4k_o2Po_YIU4"
      },
      "execution_count": 18,
      "outputs": []
    },
    {
      "cell_type": "code",
      "source": [
        "volume['low'] = fuzz.trimf(volume.universe, [0, 0, 30])\n",
        "volume['medium'] = fuzz.trimf(volume.universe, [20, 50, 80])\n",
        "volume['high'] = fuzz.trimf(volume.universe, [70, 100, 100])"
      ],
      "metadata": {
        "id": "fU_829FwYSj2"
      },
      "execution_count": 19,
      "outputs": []
    },
    {
      "cell_type": "code",
      "source": [
        "sentiment['negative'] = fuzz.trimf(sentiment.universe, [-1, -1, 0])\n",
        "sentiment['neutral'] = fuzz.trimf(sentiment.universe, [-0.5, 0, 0.5])\n",
        "sentiment['positive'] = fuzz.trimf(sentiment.universe, [0, 1, 1])"
      ],
      "metadata": {
        "id": "M4m6WkeNYW0q"
      },
      "execution_count": 20,
      "outputs": []
    },
    {
      "cell_type": "code",
      "source": [
        "trend['bearish'] = fuzz.trimf(trend.universe, [0, 0, 50])\n",
        "trend['stable'] = fuzz.trimf(trend.universe, [25, 50, 75])\n",
        "trend['bullish'] = fuzz.trimf(trend.universe, [50, 100, 100])"
      ],
      "metadata": {
        "id": "p6864CV6YZra"
      },
      "execution_count": 21,
      "outputs": []
    },
    {
      "cell_type": "code",
      "source": [
        "rule1 = ctrl.Rule(price_change['high'] & volume['high'] & sentiment['positive'], trend['bullish'])\n",
        "rule2 = ctrl.Rule(price_change['low'] & volume['high'] & sentiment['negative'], trend['bearish'])\n",
        "rule3 = ctrl.Rule(price_change['medium'] & volume['medium'] & sentiment['neutral'], trend['stable'])\n",
        "rule4 = ctrl.Rule(price_change['low'] & volume['low'] & sentiment['negative'], trend['bearish'])\n",
        "rule5 = ctrl.Rule(price_change['high'] & volume['low'] & sentiment['positive'], trend['bullish'])"
      ],
      "metadata": {
        "id": "1kcubas1YcH6"
      },
      "execution_count": 22,
      "outputs": []
    },
    {
      "cell_type": "code",
      "source": [
        "trend_ctrl = ctrl.ControlSystem([rule1, rule2, rule3, rule4, rule5])\n",
        "trend_predictor = ctrl.ControlSystemSimulation(trend_ctrl)"
      ],
      "metadata": {
        "id": "T5DAsM9SYfSs"
      },
      "execution_count": 24,
      "outputs": []
    },
    {
      "cell_type": "code",
      "source": [
        "try:\n",
        "    user_price = float(input(\"Enter price change (% between -10 to 10): \"))\n",
        "    user_volume = float(input(\"Enter volume (in millions, 0 to 100): \"))\n",
        "    user_sentiment = float(input(\"Enter sentiment (-1 to 1): \"))\n",
        "\n",
        "    if not (-10 <= user_price <= 10):\n",
        "        raise ValueError(\"Price change must be between -10 and 10.\")\n",
        "    if not (0 <= user_volume <= 100):\n",
        "        raise ValueError(\"Volume must be between 0 and 100.\")\n",
        "    if not (-1 <= user_sentiment <= 1):\n",
        "        raise ValueError(\"Sentiment must be between -1 and 1.\")\n",
        "\n",
        "    trend_predictor.input['price_change'] = user_price\n",
        "    trend_predictor.input['volume'] = user_volume\n",
        "    trend_predictor.input['sentiment'] = user_sentiment\n",
        "\n",
        "\n",
        "    trend_predictor.compute()\n",
        "    output = trend_predictor.output['trend']\n",
        "\n",
        "    print(f\"\\n Predicted Trend Score: {output:.2f}\")\n",
        "\n",
        "    if output > 66:\n",
        "        print(\" Final Prediction: Bullish\")\n",
        "    elif output < 33:\n",
        "        print(\" Final Prediction: Bearish\")\n",
        "    else:\n",
        "        print(\" Final Prediction: Stable\")\n",
        "\n",
        "except ValueError as ve:\n",
        "    print(f\" Input Error: {ve}\")"
      ],
      "metadata": {
        "colab": {
          "base_uri": "https://localhost:8080/"
        },
        "id": "6x8NSAHaYiOe",
        "outputId": "83401462-ff87-4b85-dc3e-347f03c8f1ae"
      },
      "execution_count": 25,
      "outputs": [
        {
          "output_type": "stream",
          "name": "stdout",
          "text": [
            "Enter price change (% between -10 to 10): 1\n",
            "Enter volume (in millions, 0 to 100): 100\n",
            "Enter sentiment (-1 to 1): 0.5\n",
            "\n",
            " Predicted Trend Score: 76.23\n",
            " Final Prediction: Bullish\n"
          ]
        }
      ]
    }
  ]
}